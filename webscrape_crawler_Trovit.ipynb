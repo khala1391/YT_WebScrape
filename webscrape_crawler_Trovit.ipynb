{
 "cells": [
  {
   "cell_type": "markdown",
   "id": "fe9cf3fd",
   "metadata": {},
   "source": [
    "# WebScraping and Crawler"
   ]
  },
  {
   "cell_type": "markdown",
   "id": "4bfa8be4",
   "metadata": {},
   "source": [
    "---\n",
    "* Author:  [Yuttapong Mahasittiwat](mailto:khala1391@gmail.com)\n",
    "* Technologist | Data Modeler | Data Analyst\n",
    "* [YouTube](https://www.youtube.com/khala1391)\n",
    "* [LinkedIn](https://www.linkedin.com/in/yuttapong-m/)\n",
    "* [Tableau](https://public.tableau.com/app/profile/yuttapong.m/vizzes)\n",
    "---"
   ]
  },
  {
   "cell_type": "markdown",
   "id": "f98186bf",
   "metadata": {},
   "source": [
    "ref: [Ice partam youtube channel](https://www.youtube.com/@icepartam/videos)"
   ]
  },
  {
   "cell_type": "code",
   "execution_count": null,
   "id": "d0988f1c",
   "metadata": {},
   "outputs": [
    {
     "name": "stdout",
     "output_type": "stream",
     "text": [
      "2024-10-20 20:41:04.090947\n"
     ]
    }
   ],
   "source": [
    "import datetime\n",
    "print(datetime.datetime.now())"
   ]
  },
  {
   "cell_type": "markdown",
   "id": "e90e4da4",
   "metadata": {},
   "source": [
    "## import library"
   ]
  },
  {
   "cell_type": "code",
   "execution_count": 3,
   "id": "caec8f3a-1236-489c-8a0f-4b768a321264",
   "metadata": {},
   "outputs": [
    {
     "name": "stdout",
     "output_type": "stream",
     "text": [
      "c:\\Users\\khala\\OneDrive\\MyDoc\\Documents\\000_DataScience\\02_PY\\YT_ WsCube\n"
     ]
    }
   ],
   "source": [
    "from selenium import webdriver\n",
    "from selenium.webdriver.common.keys import Keys\n",
    "from selenium.webdriver.common.by import By\n",
    "\n",
    "from bs4 import BeautifulSoup\n",
    "import requests\n",
    "\n",
    "import time\n",
    "import os\n",
    "\n",
    "import pandas as pd\n",
    "\n",
    "path = os.getcwd()\n",
    "print(path)\n"
   ]
  },
  {
   "cell_type": "markdown",
   "id": "b7bfcfba",
   "metadata": {},
   "source": [
    "## set up crawler (selenium)"
   ]
  },
  {
   "cell_type": "code",
   "execution_count": 7,
   "id": "4d239e6b",
   "metadata": {},
   "outputs": [
    {
     "name": "stderr",
     "output_type": "stream",
     "text": [
      "The chromedriver version (128.0.6613.137) detected in PATH at .\\chromedriver.exe might not be compatible with the detected chrome version (129.0.6668.101); currently, chromedriver 129.0.6668.100 is recommended for chrome 129.*, so it is advised to delete the driver in PATH and retry\n"
     ]
    }
   ],
   "source": [
    "# import requests\n",
    "# web = requests.get(\"http://www.python.org\")\n",
    "# print(web.text)\n",
    "\n",
    "driver = webdriver.Chrome()\n",
    "# driver.get(\"http://www.python.org\")\n",
    "driver.get(\"https://th.trovit.com/baan/\")\n",
    "\n",
    "# time.sleep(3)\n",
    "\n",
    "keyword = \"เชียงใหม่\"\n",
    "input_box = driver.find_element(By.ID, \"what_d\")\n",
    "input_box.send_keys(keyword)\n",
    "\n",
    "# ****************\n",
    "\n",
    "path =  '//*[@id=\"search\"]/button'\n",
    "submit = driver.find_element(By.XPATH, path)\n",
    "submit.click()\n",
    "\n",
    "time.sleep(3)\n",
    "\n",
    "\n"
   ]
  },
  {
   "cell_type": "markdown",
   "id": "581a7367",
   "metadata": {},
   "source": [
    "## set up BeautifulSoup"
   ]
  },
  {
   "cell_type": "code",
   "execution_count": 8,
   "id": "42f2d7ad",
   "metadata": {},
   "outputs": [
    {
     "name": "stdout",
     "output_type": "stream",
     "text": [
      "[' ขายบ้าน 2 ชั้น โครงการกุลพันธ์วิลล์ 5 แม่เหียะ พร้อมอยู่ ขนาด 3 ห้องนอน 3 ห้องน้ำ 108 ตรว. พื้นที่ใช้สอย 150 ตรม ', ' ขายบ้านทาวน์โฮมชั้นเดียว ขนาด 2 ห้องนอน 1 ห้องน้ำ 27 ตรว. จากถนนเชียงใหม่พร้าว (แยก สภ.แม่โจ้) เพียง 100 เมตร ใกล้ มหาวิทยาลัยแม่โจ้ ', ' บ้านสวยพร้อมอยู่ ของแถมในบ้านเพียบ ทำเลหางดง โครงการ กุลพันธ์วิลล์9 โซนบิวฟอร์ท 3 ติดถนนเชียงใหม่-หางดง ', ' บ้านขนาด 4 นอน 2 น้ำ 67 ตรว. แปลงหัวมุม โครงการคุ้มผญาการ์เดนโฮม ซอย 11 ถนนเชียงใหม่-หางดง ตรงข้ามกาดฝรั่ง ใกล้เมือง ใกล้ห้างแม็คโคร ', ' กาญจน์กนกคอนโด เจ็ดยอดกรีนเนอร์รี่ ขนาด ตรม. // ชั้น ห้อง ห้องรีโนเวทใหม่ ตกแต่งใหม่ ✲ พร้อมอยู่ โซนเจ็ดยอด ', ' กาญจน์กนกคอนโด เจ็ดยอดกรีนเนอร์รี่ ขนาด ตรม. // ชั้น ห้อง ห้องรีโนเวทใหม่ ', ' ขายบ้าน 2 ชั้น 3 ห้องนอน 3 ห้องน้ำ 52 ตรว. โครงการกรีนวิวโฮม แม่โจ้ ใกล้#มหาวิทยาลัยแม่โจ้ ', ' บ้านแสนสบาย 2 สันทราย ขนาด 3 ห้องนอน 2 ห้องน้ำ 71 ตรว ', ' ขายทาวน์โฮม 3 ชั้น 4 ห้องนอน 2 ห้องน้ำ เนื้อที่ 25.8 ตรว. หลังมุม โครงการ พรอมท์ บิสซิเนส โฮม (Promt Businees Home) เจ็ดยอด ', ' คอนโดปาล์มสปริงส์ อริค่า นิมมาน ถนนนิมมานเหมินทร์ ซอย 5 “Palmspring Areca Nimman” ขนาด 35 ตร.ม. ชั้น 8 ขนาด 1 ห้องนอน 1 ห้องน้ำ พร้อมเฟอ ', ' ขาย Twin Home บ้านแฝด 2 ชั้น สไตล์โมเดิร์นสุดหรู หลังมุม! 3 ห้องนอน 2 ห้องน้ำ 1 ห้องโถงขนาดใหญ่ 29 ตรว. พื้นที่ใช้สอย 175 ตรม. โ ', ' ขายบ้านชั้นเดียว โครงการใจแก้วเอราวัณ12 หนองผึ้ง สารภี ขนาด 2 ห้องนอน 2ห้องน้ำ 39.5 ตรว. พื้นที่ใช้สอย 100 ตรม. ถนนวงแหวนรอ ', ' 1 Bedroom Condo for sale at Baan Chao Praya near the Chao Phraya River ', ' ขายด่วนบ้านเดี่ยวใหม่ตกแต่งสวย เฟอร์นิเจอร์ครบชุดพร้อมเข้าอยู่ ห้วยใหญ่ พัทยา กับราคาน่ารัก 3,990,000 -บาท ', ' ขาย&เช่า บ้านปลายหาด คอนโดมิเนียมริมชายหาดวงศ์อมาตย์ ประเภท: 2 ห้องนอน 2 ห้องน้ำ ', ' ขายบ้านเดี่ยว 2 ชั้น หมู่บ้านเอ็มเพอร์เรอร์2 ตกแต่งสวย ทำเลดี ตำบลฟ้าฮ่าม อำเภอเมืองเชียงใหม่ จังหวัดเชียงใหม่ ', ' ขายบ้านเดี่ยวชั้นเดียว โครงการไอยราเฮ้าส์ สไตล์พลูวิลล่า พร้อมสระว่ายน้ำขนาดใหญ่ ราคา 3.69 ลบเท่านั้น ', ' ขาย คอนโด 2 ห้องนอน ในโครงการ พาราโน่ คอนโด แอท เชียงใหม่ ', ' ขาย คอนโด 2 ห้องนอน ในโครงการ พาราโน่ คอนโด แอท เชียงใหม่ ', ' ขาย คอนโด สตูดิโอ ในโครงการ ดีคอนโด แคมปัส รีสอร์ท เชียงใหม่ ', ' ขาย คอนโด 1 ห้องนอน ในโครงการ ดีคอนโด แคมปัส รีสอร์ท เชียงใหม่ ', ' ขาย บ้านเดี่ยว 4 ห้องนอน ในโครงการ ศุภาลัย การ์เด้นวิลล์ แอร์พอร์ต เชียงใหม่ ', ' ขาย บ้านเดี่ยว 3 ห้องนอน ในโครงการ ศุภาลัย การ์เด้นวิลล์ แอร์พอร์ต เชียงใหม่ ', ' ขาย คอนโด 1 ห้องนอน ในโครงการ ดิ ยูนีค แอท นิมมาน ', ' ขาย คอนโด 1 ห้องนอน ในโครงการ ปาล์ม สปริงส์ นิมมาน รอยัล ', ' ขาย คอนโด 1 ห้องนอน ในโครงการ ดิ ยูนิค แอท รวมโชค ', ' ขาย คอนโด 1 ห้องนอน ในโครงการ ดิ ยูนิค แอท รวมโชค ', ' ขาย คอนโด 1 ห้องนอน ในโครงการ ปาล์ม สปริงส์ นิมมาน รอยัล ', ' ขาย คอนโด 1 ห้องนอน ในโครงการ \"Superior 1 bed condo for sale at The Unique @ Nimman ready for you to own!\" ', ' ขาย คอนโด 1 ห้องนอน ในโครงการ ดิ ยูนิค คอนโด แอท คูเมือง ']\n",
      "['฿4,800,000', '฿1,480,000', '฿5,400,000', '฿2,580,000', '฿1,960,000', '฿1,960,000', '฿2,200,000', '฿3,650,000', '฿4,580,000', '฿3,550,000', '฿2,580,000', '฿1,560,000', '฿7,800,000', '฿3,990,000', '฿9,900,000', '฿7,300,000', '฿3,690,000', '฿3,700,000', '฿4,000,000', '฿2,450,000', '฿2,400,000', '฿8,300,000', '฿6,900,000', '฿5,900,000', '฿3,350,000', '฿3,049,375', '฿3,500,000', '฿3,800,000', '฿3,750,000', '฿5,250,000']\n"
     ]
    }
   ],
   "source": [
    "url = driver.current_url\n",
    "soup = requests.get(url)\n",
    "# print(url)\n",
    "# print(soup)   #success >> response [200]\n",
    "# print(soup.content)\n",
    "content = BeautifulSoup(soup.content, 'html.parser')\n",
    "# print(content.prettify())\n",
    "\n",
    "title = content.find_all('div', {'class': 'item-title'})\n",
    "title = [i.text for i in title]\n",
    "print(title)\n",
    "\n",
    "price = content.find_all('span', {'class':'actual-price'})\n",
    "price = [i.text for i in price]\n",
    "print(price)\n",
    "\n"
   ]
  },
  {
   "cell_type": "markdown",
   "id": "ae21f674",
   "metadata": {},
   "source": [
    "## save file"
   ]
  },
  {
   "cell_type": "code",
   "execution_count": 9,
   "id": "445b932f-1a84-4484-a9b7-1f8ecfeb4d39",
   "metadata": {},
   "outputs": [],
   "source": [
    "df = pd.DataFrame({\n",
    "   'title':title,\n",
    "   'price':price\n",
    "    })\n",
    "\n",
    "# df\n",
    "df.to_csv('data/sample_data.csv', encoding='utf-8-sig')"
   ]
  },
  {
   "cell_type": "code",
   "execution_count": null,
   "id": "a7afae9e",
   "metadata": {},
   "outputs": [],
   "source": []
  }
 ],
 "metadata": {
  "kernelspec": {
   "display_name": "base",
   "language": "python",
   "name": "python3"
  },
  "language_info": {
   "codemirror_mode": {
    "name": "ipython",
    "version": 3
   },
   "file_extension": ".py",
   "mimetype": "text/x-python",
   "name": "python",
   "nbconvert_exporter": "python",
   "pygments_lexer": "ipython3",
   "version": "3.11.9"
  }
 },
 "nbformat": 4,
 "nbformat_minor": 5
}
