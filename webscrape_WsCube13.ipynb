{
 "cells": [
  {
   "cell_type": "markdown",
   "metadata": {},
   "source": [
    "# WebScraping - find_all + pandas"
   ]
  },
  {
   "cell_type": "markdown",
   "metadata": {},
   "source": [
    "---\n",
    "* Author:  [Yuttapong Mahasittiwat](mailto:khala1391@gmail.com)\n",
    "* Technologist | Data Modeler | Data Analyst\n",
    "* [YouTube](https://www.youtube.com/khala1391)\n",
    "* [LinkedIn](https://www.linkedin.com/in/yuttapong-m/)\n",
    "* [Tableau](https://public.tableau.com/app/profile/yuttapong.m/vizzes)\n",
    "---"
   ]
  },
  {
   "cell_type": "markdown",
   "metadata": {},
   "source": [
    "ref: [WS CubeTech youtube channel](https://www.youtube.com/watch?v=UabBGhnVqSo&list=PLc20sA5NNOvrsn3a78ewy2VTCXVV47NB4&index=1&t=0s)"
   ]
  },
  {
   "cell_type": "code",
   "execution_count": null,
   "metadata": {},
   "outputs": [
    {
     "name": "stdout",
     "output_type": "stream",
     "text": [
      "2024-10-20 20:41:04.090947\n"
     ]
    }
   ],
   "source": [
    "import datetime\n",
    "print(datetime.datetime.now())"
   ]
  },
  {
   "cell_type": "markdown",
   "metadata": {},
   "source": [
    "## import library"
   ]
  },
  {
   "cell_type": "code",
   "execution_count": 1,
   "metadata": {},
   "outputs": [],
   "source": [
    "from urllib.request import urlopen # option#1\n",
    "import requests  # option#2\n",
    "\n",
    "import pandas as pd\n",
    "from bs4 import BeautifulSoup"
   ]
  },
  {
   "cell_type": "code",
   "execution_count": 3,
   "metadata": {},
   "outputs": [],
   "source": [
    "url = \"https://webscraper.io/test-sites/e-commerce/allinone/computers/tablets\"\n",
    "\n",
    "r = requests.get(url)\n",
    "soup = BeautifulSoup(r.text, \"lxml\")"
   ]
  },
  {
   "cell_type": "code",
   "execution_count": 9,
   "metadata": {},
   "outputs": [
    {
     "name": "stdout",
     "output_type": "stream",
     "text": [
      "[<a class=\"title\" href=\"/test-sites/e-commerce/allinone/product/10\" title=\"Lenovo IdeaTab\">Lenovo IdeaTab</a>, <a class=\"title\" href=\"/test-sites/e-commerce/allinone/product/15\" title=\"IdeaTab A3500L\">IdeaTab A3500L</a>, <a class=\"title\" href=\"/test-sites/e-commerce/allinone/product/11\" title=\"Acer Iconia\">Acer Iconia</a>, <a class=\"title\" href=\"/test-sites/e-commerce/allinone/product/18\" title=\"Galaxy Tab 3\">Galaxy Tab 3</a>, <a class=\"title\" href=\"/test-sites/e-commerce/allinone/product/27\" title=\"Iconia B1-730HD\">Iconia B1-730H...</a>, <a class=\"title\" href=\"/test-sites/e-commerce/allinone/product/23\" title=\"Memo Pad HD 7\">Memo Pad HD 7</a>, <a class=\"title\" href=\"/test-sites/e-commerce/allinone/product/12\" title=\"Asus MeMO Pad\">Asus MeMO Pad</a>, <a class=\"title\" href=\"/test-sites/e-commerce/allinone/product/13\" title=\"Amazon Kindle\">Amazon Kindle</a>, <a class=\"title\" href=\"/test-sites/e-commerce/allinone/product/22\" title=\"Galaxy Tab 3\">Galaxy Tab 3</a>, <a class=\"title\" href=\"/test-sites/e-commerce/allinone/product/28\" title=\"IdeaTab A8-50\">IdeaTab A8-50</a>, <a class=\"title\" href=\"/test-sites/e-commerce/allinone/product/20\" title=\"MeMO Pad 7\">MeMO Pad 7</a>, <a class=\"title\" href=\"/test-sites/e-commerce/allinone/product/17\" title=\"IdeaTab A3500-H\">IdeaTab A3500-...</a>, <a class=\"title\" href=\"/test-sites/e-commerce/allinone/product/26\" title=\"IdeaTab S5000\">IdeaTab S5000</a>, <a class=\"title\" href=\"/test-sites/e-commerce/allinone/product/21\" title=\"Galaxy Tab 4\">Galaxy Tab 4</a>, <a class=\"title\" href=\"/test-sites/e-commerce/allinone/product/16\" title=\"Galaxy Tab\">Galaxy Tab</a>, <a class=\"title\" href=\"/test-sites/e-commerce/allinone/product/25\" title=\"MeMo PAD FHD 10\">MeMo PAD FHD 1...</a>, <a class=\"title\" href=\"/test-sites/e-commerce/allinone/product/29\" title=\"Galaxy Note\">Galaxy Note</a>, <a class=\"title\" href=\"/test-sites/e-commerce/allinone/product/19\" title=\"Galaxy Note\">Galaxy Note</a>, <a class=\"title\" href=\"/test-sites/e-commerce/allinone/product/14\" title=\"iPad Mini Retina\">iPad Mini Reti...</a>, <a class=\"title\" href=\"/test-sites/e-commerce/allinone/product/24\" title=\"Galaxy Note 10.1\">Galaxy Note 10...</a>, <a class=\"title\" href=\"/test-sites/e-commerce/allinone/product/30\" title=\"Apple iPad Air\">Apple iPad Air</a>]\n"
     ]
    },
    {
     "data": {
      "text/plain": [
       "['Lenovo IdeaTab',\n",
       " 'IdeaTab A3500L',\n",
       " 'Acer Iconia',\n",
       " 'Galaxy Tab 3',\n",
       " 'Iconia B1-730H...',\n",
       " 'Memo Pad HD 7',\n",
       " 'Asus MeMO Pad',\n",
       " 'Amazon Kindle',\n",
       " 'Galaxy Tab 3',\n",
       " 'IdeaTab A8-50',\n",
       " 'MeMO Pad 7',\n",
       " 'IdeaTab A3500-...',\n",
       " 'IdeaTab S5000',\n",
       " 'Galaxy Tab 4',\n",
       " 'Galaxy Tab',\n",
       " 'MeMo PAD FHD 1...',\n",
       " 'Galaxy Note',\n",
       " 'Galaxy Note',\n",
       " 'iPad Mini Reti...',\n",
       " 'Galaxy Note 10...',\n",
       " 'Apple iPad Air']"
      ]
     },
     "execution_count": 9,
     "metadata": {},
     "output_type": "execute_result"
    }
   ],
   "source": [
    "names = soup.find_all(\"a\", class_=\"title\")\n",
    "print(names)\n",
    "\n",
    "# way#1 list comprehension\n",
    "product_name = [name.text for name in names]\n",
    "\n",
    "# way#2 for loop\n",
    "# product_name= []\n",
    "# for i in names:\n",
    "#     name = i.text\n",
    "#     product_name.append(name)\n",
    "\n",
    "\n",
    "product_name"
   ]
  },
  {
   "cell_type": "code",
   "execution_count": 14,
   "metadata": {},
   "outputs": [
    {
     "name": "stdout",
     "output_type": "stream",
     "text": [
      "['$69.99', '$88.99', '$96.99', '$97.99', '$99.99', '$101.99', '$102.99', '$103.99', '$107.99', '$121.99', '$130.99', '$148.99', '$172.99', '$233.99', '$251.99', '$320.99', '$399.99', '$489.99', '$537.99', '$587.99', '$603.99']\n"
     ]
    }
   ],
   "source": [
    "prices = soup.find_all(\"h4\", class_ = \"price float-end card-title pull-right\")\n",
    "price_list = [i.text for i in prices]\n",
    "price_list\n",
    "\n",
    "print(price_list)"
   ]
  },
  {
   "cell_type": "code",
   "execution_count": 16,
   "metadata": {},
   "outputs": [
    {
     "data": {
      "text/plain": [
       "['7\" screen, Android',\n",
       " 'Black, 7\" IPS, Quad-Core 1.2GHz, 8GB, Android 4.2',\n",
       " '7\" screen, Android, 16GB',\n",
       " '7\", 8GB, Wi-Fi, Android 4.2, White',\n",
       " 'Black, 7\", 1.6GHz Dual-Core, 8GB, Android 4.4',\n",
       " 'IPS, Dual-Core 1.2GHz, 8GB, Android 4.3',\n",
       " '7\" screen, Android, 8GB',\n",
       " '6\" screen, wifi',\n",
       " '7\", 8GB, Wi-Fi, Android 4.2, Yellow',\n",
       " 'Blue, 8\" IPS, Quad-Core 1.3GHz, 16GB, Android 4.2',\n",
       " 'White, 7\", Atom 1.2GHz, 8GB, Android 4.4',\n",
       " 'Blue, 7\" IPS, Quad-Core 1.3GHz, 8GB, 3G, Android 4.2',\n",
       " 'Silver, 7\" IPS, Quad-Core 1.2Ghz, 16GB, 3G, Android 4.2',\n",
       " 'LTE (SM-T235), Quad-Core 1.2GHz, 8GB, Black',\n",
       " '16GB, White',\n",
       " 'White, 10.1\" IPS, 1.6GHz, 2GB, 16GB, Android 4.2',\n",
       " '10.1\", 3G, Android 4.0, Garnet Red',\n",
       " '12.2\", 32GB, WiFi, Android 4.4, White',\n",
       " 'Wi-Fi + Cellular, 32GB, Silver',\n",
       " '10.1\", 32GB, Black',\n",
       " 'Wi-Fi, 64GB, Silver']"
      ]
     },
     "execution_count": 16,
     "metadata": {},
     "output_type": "execute_result"
    }
   ],
   "source": [
    "descriptions = soup.find_all(\"p\", class_=\"description\")\n",
    "description_list = [i.text for i in descriptions]\n",
    "description_list"
   ]
  },
  {
   "cell_type": "code",
   "execution_count": 17,
   "metadata": {},
   "outputs": [
    {
     "data": {
      "text/plain": [
       "['7 reviews',\n",
       " '7 reviews',\n",
       " '7 reviews',\n",
       " '2 reviews',\n",
       " '1 reviews',\n",
       " '10 reviews',\n",
       " '14 reviews',\n",
       " '3 reviews',\n",
       " '14 reviews',\n",
       " '13 reviews',\n",
       " '11 reviews',\n",
       " '9 reviews',\n",
       " '8 reviews',\n",
       " '1 reviews',\n",
       " '14 reviews',\n",
       " '7 reviews',\n",
       " '12 reviews',\n",
       " '9 reviews',\n",
       " '8 reviews',\n",
       " '6 reviews',\n",
       " '7 reviews']"
      ]
     },
     "execution_count": 17,
     "metadata": {},
     "output_type": "execute_result"
    }
   ],
   "source": [
    "reviews = soup.find_all(\"p\", class_=\"review-count float-end\")\n",
    "review_list = [i.text for i in reviews]\n",
    "review_list"
   ]
  },
  {
   "cell_type": "code",
   "execution_count": 18,
   "metadata": {},
   "outputs": [
    {
     "data": {
      "text/html": [
       "<div>\n",
       "<style scoped>\n",
       "    .dataframe tbody tr th:only-of-type {\n",
       "        vertical-align: middle;\n",
       "    }\n",
       "\n",
       "    .dataframe tbody tr th {\n",
       "        vertical-align: top;\n",
       "    }\n",
       "\n",
       "    .dataframe thead th {\n",
       "        text-align: right;\n",
       "    }\n",
       "</style>\n",
       "<table border=\"1\" class=\"dataframe\">\n",
       "  <thead>\n",
       "    <tr style=\"text-align: right;\">\n",
       "      <th></th>\n",
       "      <th>product_name</th>\n",
       "      <th>price</th>\n",
       "      <th>review</th>\n",
       "    </tr>\n",
       "  </thead>\n",
       "  <tbody>\n",
       "    <tr>\n",
       "      <th>0</th>\n",
       "      <td>Lenovo IdeaTab</td>\n",
       "      <td>$69.99</td>\n",
       "      <td>7 reviews</td>\n",
       "    </tr>\n",
       "    <tr>\n",
       "      <th>1</th>\n",
       "      <td>IdeaTab A3500L</td>\n",
       "      <td>$88.99</td>\n",
       "      <td>7 reviews</td>\n",
       "    </tr>\n",
       "    <tr>\n",
       "      <th>2</th>\n",
       "      <td>Acer Iconia</td>\n",
       "      <td>$96.99</td>\n",
       "      <td>7 reviews</td>\n",
       "    </tr>\n",
       "    <tr>\n",
       "      <th>3</th>\n",
       "      <td>Galaxy Tab 3</td>\n",
       "      <td>$97.99</td>\n",
       "      <td>2 reviews</td>\n",
       "    </tr>\n",
       "    <tr>\n",
       "      <th>4</th>\n",
       "      <td>Iconia B1-730H...</td>\n",
       "      <td>$99.99</td>\n",
       "      <td>1 reviews</td>\n",
       "    </tr>\n",
       "    <tr>\n",
       "      <th>5</th>\n",
       "      <td>Memo Pad HD 7</td>\n",
       "      <td>$101.99</td>\n",
       "      <td>10 reviews</td>\n",
       "    </tr>\n",
       "    <tr>\n",
       "      <th>6</th>\n",
       "      <td>Asus MeMO Pad</td>\n",
       "      <td>$102.99</td>\n",
       "      <td>14 reviews</td>\n",
       "    </tr>\n",
       "    <tr>\n",
       "      <th>7</th>\n",
       "      <td>Amazon Kindle</td>\n",
       "      <td>$103.99</td>\n",
       "      <td>3 reviews</td>\n",
       "    </tr>\n",
       "    <tr>\n",
       "      <th>8</th>\n",
       "      <td>Galaxy Tab 3</td>\n",
       "      <td>$107.99</td>\n",
       "      <td>14 reviews</td>\n",
       "    </tr>\n",
       "    <tr>\n",
       "      <th>9</th>\n",
       "      <td>IdeaTab A8-50</td>\n",
       "      <td>$121.99</td>\n",
       "      <td>13 reviews</td>\n",
       "    </tr>\n",
       "    <tr>\n",
       "      <th>10</th>\n",
       "      <td>MeMO Pad 7</td>\n",
       "      <td>$130.99</td>\n",
       "      <td>11 reviews</td>\n",
       "    </tr>\n",
       "    <tr>\n",
       "      <th>11</th>\n",
       "      <td>IdeaTab A3500-...</td>\n",
       "      <td>$148.99</td>\n",
       "      <td>9 reviews</td>\n",
       "    </tr>\n",
       "    <tr>\n",
       "      <th>12</th>\n",
       "      <td>IdeaTab S5000</td>\n",
       "      <td>$172.99</td>\n",
       "      <td>8 reviews</td>\n",
       "    </tr>\n",
       "    <tr>\n",
       "      <th>13</th>\n",
       "      <td>Galaxy Tab 4</td>\n",
       "      <td>$233.99</td>\n",
       "      <td>1 reviews</td>\n",
       "    </tr>\n",
       "    <tr>\n",
       "      <th>14</th>\n",
       "      <td>Galaxy Tab</td>\n",
       "      <td>$251.99</td>\n",
       "      <td>14 reviews</td>\n",
       "    </tr>\n",
       "    <tr>\n",
       "      <th>15</th>\n",
       "      <td>MeMo PAD FHD 1...</td>\n",
       "      <td>$320.99</td>\n",
       "      <td>7 reviews</td>\n",
       "    </tr>\n",
       "    <tr>\n",
       "      <th>16</th>\n",
       "      <td>Galaxy Note</td>\n",
       "      <td>$399.99</td>\n",
       "      <td>12 reviews</td>\n",
       "    </tr>\n",
       "    <tr>\n",
       "      <th>17</th>\n",
       "      <td>Galaxy Note</td>\n",
       "      <td>$489.99</td>\n",
       "      <td>9 reviews</td>\n",
       "    </tr>\n",
       "    <tr>\n",
       "      <th>18</th>\n",
       "      <td>iPad Mini Reti...</td>\n",
       "      <td>$537.99</td>\n",
       "      <td>8 reviews</td>\n",
       "    </tr>\n",
       "    <tr>\n",
       "      <th>19</th>\n",
       "      <td>Galaxy Note 10...</td>\n",
       "      <td>$587.99</td>\n",
       "      <td>6 reviews</td>\n",
       "    </tr>\n",
       "    <tr>\n",
       "      <th>20</th>\n",
       "      <td>Apple iPad Air</td>\n",
       "      <td>$603.99</td>\n",
       "      <td>7 reviews</td>\n",
       "    </tr>\n",
       "  </tbody>\n",
       "</table>\n",
       "</div>"
      ],
      "text/plain": [
       "         product_name    price      review\n",
       "0      Lenovo IdeaTab   $69.99   7 reviews\n",
       "1      IdeaTab A3500L   $88.99   7 reviews\n",
       "2         Acer Iconia   $96.99   7 reviews\n",
       "3        Galaxy Tab 3   $97.99   2 reviews\n",
       "4   Iconia B1-730H...   $99.99   1 reviews\n",
       "5       Memo Pad HD 7  $101.99  10 reviews\n",
       "6       Asus MeMO Pad  $102.99  14 reviews\n",
       "7       Amazon Kindle  $103.99   3 reviews\n",
       "8        Galaxy Tab 3  $107.99  14 reviews\n",
       "9       IdeaTab A8-50  $121.99  13 reviews\n",
       "10         MeMO Pad 7  $130.99  11 reviews\n",
       "11  IdeaTab A3500-...  $148.99   9 reviews\n",
       "12      IdeaTab S5000  $172.99   8 reviews\n",
       "13       Galaxy Tab 4  $233.99   1 reviews\n",
       "14         Galaxy Tab  $251.99  14 reviews\n",
       "15  MeMo PAD FHD 1...  $320.99   7 reviews\n",
       "16        Galaxy Note  $399.99  12 reviews\n",
       "17        Galaxy Note  $489.99   9 reviews\n",
       "18  iPad Mini Reti...  $537.99   8 reviews\n",
       "19  Galaxy Note 10...  $587.99   6 reviews\n",
       "20     Apple iPad Air  $603.99   7 reviews"
      ]
     },
     "execution_count": 18,
     "metadata": {},
     "output_type": "execute_result"
    }
   ],
   "source": [
    "df = pd.DataFrame({\"product_name\": product_name,\n",
    "                  \"price\": price_list,\n",
    "                  \"review\":review_list})\n",
    "df"
   ]
  },
  {
   "cell_type": "code",
   "execution_count": 19,
   "metadata": {},
   "outputs": [],
   "source": [
    "df.to_csv('data/product_details.csv')"
   ]
  }
 ],
 "metadata": {
  "kernelspec": {
   "display_name": "base",
   "language": "python",
   "name": "python3"
  },
  "language_info": {
   "codemirror_mode": {
    "name": "ipython",
    "version": 3
   },
   "file_extension": ".py",
   "mimetype": "text/x-python",
   "name": "python",
   "nbconvert_exporter": "python",
   "pygments_lexer": "ipython3",
   "version": "3.11.9"
  }
 },
 "nbformat": 4,
 "nbformat_minor": 2
}
