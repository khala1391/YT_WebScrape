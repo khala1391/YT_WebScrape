{
 "cells": [
  {
   "cell_type": "markdown",
   "metadata": {},
   "source": [
    "# WebScraping - table on website"
   ]
  },
  {
   "cell_type": "markdown",
   "metadata": {},
   "source": [
    "---\n",
    "* Author:  [Yuttapong Mahasittiwat](mailto:khala1391@gmail.com)\n",
    "* Technologist | Data Modeler | Data Analyst\n",
    "* [YouTube](https://www.youtube.com/khala1391)\n",
    "* [LinkedIn](https://www.linkedin.com/in/yuttapong-m/)\n",
    "* [Tableau](https://public.tableau.com/app/profile/yuttapong.m/vizzes)\n",
    "---"
   ]
  },
  {
   "cell_type": "markdown",
   "metadata": {},
   "source": [
    "ref: [WS CubeTech youtube channel](https://www.youtube.com/watch?v=UabBGhnVqSo&list=PLc20sA5NNOvrsn3a78ewy2VTCXVV47NB4&index=1&t=0s)"
   ]
  },
  {
   "cell_type": "code",
   "execution_count": null,
   "metadata": {},
   "outputs": [
    {
     "name": "stdout",
     "output_type": "stream",
     "text": [
      "2024-10-20 20:41:04.090947\n"
     ]
    }
   ],
   "source": [
    "import datetime\n",
    "print(datetime.datetime.now())"
   ]
  },
  {
   "cell_type": "markdown",
   "metadata": {},
   "source": [
    "## import library"
   ]
  },
  {
   "cell_type": "code",
   "execution_count": 26,
   "metadata": {},
   "outputs": [],
   "source": [
    "import requests\n",
    "import pandas as pd\n",
    "from bs4 import BeautifulSoup"
   ]
  },
  {
   "cell_type": "code",
   "execution_count": 27,
   "metadata": {},
   "outputs": [],
   "source": [
    "url=\"https://ticker.finology.in/\"\n",
    "r = requests.get(url)\n",
    "# print(r)\n"
   ]
  },
  {
   "cell_type": "markdown",
   "metadata": {},
   "source": [
    "## set up BeautifulSoup"
   ]
  },
  {
   "cell_type": "code",
   "execution_count": 28,
   "metadata": {},
   "outputs": [
    {
     "name": "stdout",
     "output_type": "stream",
     "text": [
      "<table class=\"table table-sm table-hover screenertable\">\n",
      "<thead>\n",
      "<tr>\n",
      "<th scope=\"col\">Company</th>\n",
      "<th scope=\"col\">Price<span class=\"muted\">Rs.</span></th>\n",
      "<th scope=\"col\">Day High<span class=\"muted\">Rs.</span></th>\n",
      "</tr>\n",
      "</thead>\n",
      "<tbody>\n",
      "<tr>\n",
      "<td>\n",
      "<a class=\"complink\" href=\"company/MOTILALOFS\">Motilal Oswal Fin</a>\n",
      "</td>\n",
      "<td class=\"Number\">1029.70</td>\n",
      "<td class=\"Number\">1064.00</td>\n",
      "</tr>\n",
      "<tr>\n",
      "<td>\n",
      "<a class=\"complink\" href=\"company/NATIONALUM\">National Aluminium</a>\n",
      "</td>\n",
      "<td class=\"Number\">232.12</td>\n",
      "<td class=\"Number\">232.80</td>\n",
      "</tr>\n",
      "<tr>\n",
      "<td>\n",
      "<a class=\"complink\" href=\"company/WABAG\">VA Tech Wabag</a>\n",
      "</td>\n",
      "<td class=\"Number\">1871.15</td>\n",
      "<td class=\"Number\">1905.65</td>\n",
      "</tr>\n",
      "<tr>\n",
      "<td>\n",
      "<a class=\"complink\" href=\"company/MCX\">Multi Commodity Exch</a>\n",
      "</td>\n",
      "<td class=\"Number\">6561.15</td>\n",
      "<td class=\"Number\">6605.95</td>\n",
      "</tr>\n",
      "<tr>\n",
      "<td>\n",
      "<a class=\"complink\" href=\"company/ABREL\">Aditya Birla Real</a>\n",
      "</td>\n",
      "<td class=\"Number\">3052.80</td>\n",
      "<td class=\"Number\">3125.00</td>\n",
      "</tr>\n",
      "<tr>\n",
      "<td>\n",
      "<a class=\"complink\" href=\"company/VPRPL\">Vishnu Prakash R</a>\n",
      "</td>\n",
      "<td class=\"Number\">312.90</td>\n",
      "<td class=\"Number\">324.85</td>\n",
      "</tr>\n",
      "<tr>\n",
      "<td>\n",
      "<a class=\"complink\" href=\"company/DOMS\">DOMS Industries</a>\n",
      "</td>\n",
      "<td class=\"Number\">2924.40</td>\n",
      "<td class=\"Number\">3038.60</td>\n",
      "</tr>\n",
      "<tr>\n",
      "<td>\n",
      "<a class=\"complink\" href=\"company/PENIND\">Pennar Industries</a>\n",
      "</td>\n",
      "<td class=\"Number\">207.39</td>\n",
      "<td class=\"Number\">210.35</td>\n",
      "</tr>\n",
      "<tr>\n",
      "<td>\n",
      "<a class=\"complink\" href=\"company/ANANDRATHI\">Anand Rathi Wealth</a>\n",
      "</td>\n",
      "<td class=\"Number\">4286.30</td>\n",
      "<td class=\"Number\">4374.65</td>\n",
      "</tr>\n",
      "<tr>\n",
      "<td>\n",
      "<a class=\"complink\" href=\"company/TORNTPOWER\">Torrent Power</a>\n",
      "</td>\n",
      "<td class=\"Number\">1973.65</td>\n",
      "<td class=\"Number\">1993.00</td>\n",
      "</tr>\n",
      "<tr>\n",
      "<td>\n",
      "<a class=\"complink\" href=\"company/NSIL\">Nalwa Sons Invest.</a>\n",
      "</td>\n",
      "<td class=\"Number\">7048.20</td>\n",
      "<td class=\"Number\">7350.00</td>\n",
      "</tr>\n",
      "<tr>\n",
      "<td>\n",
      "<a class=\"complink\" href=\"company/DIFFNKG\">Diffusion Engineers</a>\n",
      "</td>\n",
      "<td class=\"Number\">340.25</td>\n",
      "<td class=\"Number\">351.45</td>\n",
      "</tr>\n",
      "<tr>\n",
      "<td>\n",
      "<a class=\"complink\" href=\"company/GREAVESCOT\">Greaves Cotton</a>\n",
      "</td>\n",
      "<td class=\"Number\">194.20</td>\n",
      "<td class=\"Number\">197.65</td>\n",
      "</tr>\n",
      "<tr>\n",
      "<td>\n",
      "<a class=\"complink\" href=\"company/NITCO\">Nitco</a>\n",
      "</td>\n",
      "<td class=\"Number\">121.30</td>\n",
      "<td class=\"Number\">121.30</td>\n",
      "</tr>\n",
      "<tr>\n",
      "<td>\n",
      "<a class=\"complink\" href=\"company/SAHASRA\">Sahasra Electronic</a>\n",
      "</td>\n",
      "<td class=\"Number\">760.15</td>\n",
      "<td class=\"Number\">883.90</td>\n",
      "</tr>\n",
      "</tbody>\n",
      "</table>\n"
     ]
    }
   ],
   "source": [
    "soup = BeautifulSoup(r.text, \"lxml\")\n",
    "table = soup.find(\"table\", class_=\"table table-sm table-hover screenertable\")\n",
    "\n",
    "print(table)"
   ]
  },
  {
   "cell_type": "code",
   "execution_count": 12,
   "metadata": {},
   "outputs": [
    {
     "name": "stdout",
     "output_type": "stream",
     "text": [
      "['Company', 'PriceRs.', 'Day HighRs.']\n"
     ]
    },
    {
     "data": {
      "text/html": [
       "<div>\n",
       "<style scoped>\n",
       "    .dataframe tbody tr th:only-of-type {\n",
       "        vertical-align: middle;\n",
       "    }\n",
       "\n",
       "    .dataframe tbody tr th {\n",
       "        vertical-align: top;\n",
       "    }\n",
       "\n",
       "    .dataframe thead th {\n",
       "        text-align: right;\n",
       "    }\n",
       "</style>\n",
       "<table border=\"1\" class=\"dataframe\">\n",
       "  <thead>\n",
       "    <tr style=\"text-align: right;\">\n",
       "      <th></th>\n",
       "      <th>Company</th>\n",
       "      <th>PriceRs.</th>\n",
       "      <th>Day HighRs.</th>\n",
       "    </tr>\n",
       "  </thead>\n",
       "  <tbody>\n",
       "  </tbody>\n",
       "</table>\n",
       "</div>"
      ],
      "text/plain": [
       "Empty DataFrame\n",
       "Columns: [Company, PriceRs., Day HighRs.]\n",
       "Index: []"
      ]
     },
     "execution_count": 12,
     "metadata": {},
     "output_type": "execute_result"
    }
   ],
   "source": [
    "headers = table.find_all(\"th\")\n",
    "# print(headers)\n",
    "\n",
    "# way#1 list comprehension\n",
    "titles = [i.text for i in headers]\n",
    "\n",
    "# way#2 for loop\n",
    "# titles =[]\n",
    "# for i in headers:\n",
    "#     title = i.text\n",
    "#     titles.append(title)\n",
    "print(titles)\n",
    "\n",
    "df = pd.DataFrame(columns=titles)\n",
    "df"
   ]
  },
  {
   "cell_type": "markdown",
   "metadata": {},
   "source": [
    "### collect record way#1"
   ]
  },
  {
   "cell_type": "code",
   "execution_count": 24,
   "metadata": {},
   "outputs": [
    {
     "name": "stdout",
     "output_type": "stream",
     "text": [
      "['Motilal Oswal Fin', 'National Aluminium', 'VA Tech Wabag', 'Multi Commodity Exch', 'Aditya Birla Real', 'Vishnu Prakash R', 'DOMS Industries', 'Pennar Industries', 'Anand Rathi Wealth', 'Torrent Power', 'Nalwa Sons Invest.', 'Diffusion Engineers', 'Greaves Cotton', 'Nitco', 'Sahasra Electronic']\n"
     ]
    }
   ],
   "source": [
    "content_1 = table.find_all(\"a\",{'class': 'complink'})\n",
    "content_1 = [i.text for i in content_1]\n",
    "# len(content)\n",
    "print(content_1)"
   ]
  },
  {
   "cell_type": "code",
   "execution_count": 20,
   "metadata": {},
   "outputs": [
    {
     "name": "stdout",
     "output_type": "stream",
     "text": [
      "[1029.7, 232.12, 1871.15, 6561.15, 3052.8, 312.9, 2924.4, 207.39, 4286.3, 1973.65, 7048.2, 340.25, 194.2, 121.3, 760.15]\n",
      "[1064.0, 232.8, 1905.65, 6605.95, 3125.0, 324.85, 3038.6, 210.35, 4374.65, 1993.0, 7350.0, 351.45, 197.65, 121.3, 883.9]\n"
     ]
    }
   ],
   "source": [
    "content_2 = table.find_all(\"td\",{'class': 'Number'})\n",
    "content_2A = [float(i.get_text(strip=True)) for idx, i in enumerate(content_2) if idx % 2 == 0]\n",
    "content_2B = [float(i.get_text(strip=True)) for idx, i in enumerate(content_2) if idx % 2 == 1]\n",
    "print(content_2A)\n",
    "print(content_2B)"
   ]
  },
  {
   "cell_type": "code",
   "execution_count": 22,
   "metadata": {},
   "outputs": [
    {
     "data": {
      "text/html": [
       "<div>\n",
       "<style scoped>\n",
       "    .dataframe tbody tr th:only-of-type {\n",
       "        vertical-align: middle;\n",
       "    }\n",
       "\n",
       "    .dataframe tbody tr th {\n",
       "        vertical-align: top;\n",
       "    }\n",
       "\n",
       "    .dataframe thead th {\n",
       "        text-align: right;\n",
       "    }\n",
       "</style>\n",
       "<table border=\"1\" class=\"dataframe\">\n",
       "  <thead>\n",
       "    <tr style=\"text-align: right;\">\n",
       "      <th></th>\n",
       "      <th>Company</th>\n",
       "      <th>PriceRs.</th>\n",
       "      <th>Day HighRs.</th>\n",
       "    </tr>\n",
       "  </thead>\n",
       "  <tbody>\n",
       "    <tr>\n",
       "      <th>0</th>\n",
       "      <td>Motilal Oswal Fin</td>\n",
       "      <td>1029.70</td>\n",
       "      <td>1064.00</td>\n",
       "    </tr>\n",
       "    <tr>\n",
       "      <th>1</th>\n",
       "      <td>National Aluminium</td>\n",
       "      <td>232.12</td>\n",
       "      <td>232.80</td>\n",
       "    </tr>\n",
       "    <tr>\n",
       "      <th>2</th>\n",
       "      <td>VA Tech Wabag</td>\n",
       "      <td>1871.15</td>\n",
       "      <td>1905.65</td>\n",
       "    </tr>\n",
       "    <tr>\n",
       "      <th>3</th>\n",
       "      <td>Multi Commodity Exch</td>\n",
       "      <td>6561.15</td>\n",
       "      <td>6605.95</td>\n",
       "    </tr>\n",
       "    <tr>\n",
       "      <th>4</th>\n",
       "      <td>Aditya Birla Real</td>\n",
       "      <td>3052.80</td>\n",
       "      <td>3125.00</td>\n",
       "    </tr>\n",
       "    <tr>\n",
       "      <th>5</th>\n",
       "      <td>Vishnu Prakash R</td>\n",
       "      <td>312.90</td>\n",
       "      <td>324.85</td>\n",
       "    </tr>\n",
       "    <tr>\n",
       "      <th>6</th>\n",
       "      <td>DOMS Industries</td>\n",
       "      <td>2924.40</td>\n",
       "      <td>3038.60</td>\n",
       "    </tr>\n",
       "    <tr>\n",
       "      <th>7</th>\n",
       "      <td>Pennar Industries</td>\n",
       "      <td>207.39</td>\n",
       "      <td>210.35</td>\n",
       "    </tr>\n",
       "    <tr>\n",
       "      <th>8</th>\n",
       "      <td>Anand Rathi Wealth</td>\n",
       "      <td>4286.30</td>\n",
       "      <td>4374.65</td>\n",
       "    </tr>\n",
       "    <tr>\n",
       "      <th>9</th>\n",
       "      <td>Torrent Power</td>\n",
       "      <td>1973.65</td>\n",
       "      <td>1993.00</td>\n",
       "    </tr>\n",
       "    <tr>\n",
       "      <th>10</th>\n",
       "      <td>Nalwa Sons Invest.</td>\n",
       "      <td>7048.20</td>\n",
       "      <td>7350.00</td>\n",
       "    </tr>\n",
       "    <tr>\n",
       "      <th>11</th>\n",
       "      <td>Diffusion Engineers</td>\n",
       "      <td>340.25</td>\n",
       "      <td>351.45</td>\n",
       "    </tr>\n",
       "    <tr>\n",
       "      <th>12</th>\n",
       "      <td>Greaves Cotton</td>\n",
       "      <td>194.20</td>\n",
       "      <td>197.65</td>\n",
       "    </tr>\n",
       "    <tr>\n",
       "      <th>13</th>\n",
       "      <td>Nitco</td>\n",
       "      <td>121.30</td>\n",
       "      <td>121.30</td>\n",
       "    </tr>\n",
       "    <tr>\n",
       "      <th>14</th>\n",
       "      <td>Sahasra Electronic</td>\n",
       "      <td>760.15</td>\n",
       "      <td>883.90</td>\n",
       "    </tr>\n",
       "  </tbody>\n",
       "</table>\n",
       "</div>"
      ],
      "text/plain": [
       "                 Company  PriceRs.  Day HighRs.\n",
       "0      Motilal Oswal Fin   1029.70      1064.00\n",
       "1     National Aluminium    232.12       232.80\n",
       "2          VA Tech Wabag   1871.15      1905.65\n",
       "3   Multi Commodity Exch   6561.15      6605.95\n",
       "4      Aditya Birla Real   3052.80      3125.00\n",
       "5       Vishnu Prakash R    312.90       324.85\n",
       "6        DOMS Industries   2924.40      3038.60\n",
       "7      Pennar Industries    207.39       210.35\n",
       "8     Anand Rathi Wealth   4286.30      4374.65\n",
       "9          Torrent Power   1973.65      1993.00\n",
       "10    Nalwa Sons Invest.   7048.20      7350.00\n",
       "11   Diffusion Engineers    340.25       351.45\n",
       "12        Greaves Cotton    194.20       197.65\n",
       "13                 Nitco    121.30       121.30\n",
       "14    Sahasra Electronic    760.15       883.90"
      ]
     },
     "execution_count": 22,
     "metadata": {},
     "output_type": "execute_result"
    }
   ],
   "source": [
    "df = pd.DataFrame({titles[0]:content_1,titles[1]:content_2A,titles[2]:content_2B})\n",
    "df"
   ]
  },
  {
   "cell_type": "markdown",
   "metadata": {},
   "source": [
    "### collect record way#2\n",
    "- find_all ==> mixed with data from other table"
   ]
  },
  {
   "cell_type": "code",
   "execution_count": 19,
   "metadata": {},
   "outputs": [
    {
     "data": {
      "text/html": [
       "<div>\n",
       "<style scoped>\n",
       "    .dataframe tbody tr th:only-of-type {\n",
       "        vertical-align: middle;\n",
       "    }\n",
       "\n",
       "    .dataframe tbody tr th {\n",
       "        vertical-align: top;\n",
       "    }\n",
       "\n",
       "    .dataframe thead th {\n",
       "        text-align: right;\n",
       "    }\n",
       "</style>\n",
       "<table border=\"1\" class=\"dataframe\">\n",
       "  <thead>\n",
       "    <tr style=\"text-align: right;\">\n",
       "      <th></th>\n",
       "      <th>Company</th>\n",
       "      <th>PriceRs.</th>\n",
       "      <th>Day HighRs.</th>\n",
       "    </tr>\n",
       "  </thead>\n",
       "  <tbody>\n",
       "    <tr>\n",
       "      <th>0</th>\n",
       "      <td>Motilal Oswal Fin</td>\n",
       "      <td>1029.70</td>\n",
       "      <td>1064.00</td>\n",
       "    </tr>\n",
       "    <tr>\n",
       "      <th>1</th>\n",
       "      <td>National Aluminium</td>\n",
       "      <td>232.12</td>\n",
       "      <td>232.80</td>\n",
       "    </tr>\n",
       "    <tr>\n",
       "      <th>2</th>\n",
       "      <td>VA Tech Wabag</td>\n",
       "      <td>1871.15</td>\n",
       "      <td>1905.65</td>\n",
       "    </tr>\n",
       "    <tr>\n",
       "      <th>3</th>\n",
       "      <td>Multi Commodity Exch</td>\n",
       "      <td>6561.15</td>\n",
       "      <td>6605.95</td>\n",
       "    </tr>\n",
       "    <tr>\n",
       "      <th>4</th>\n",
       "      <td>Aditya Birla Real</td>\n",
       "      <td>3052.80</td>\n",
       "      <td>3125.00</td>\n",
       "    </tr>\n",
       "    <tr>\n",
       "      <th>...</th>\n",
       "      <td>...</td>\n",
       "      <td>...</td>\n",
       "      <td>...</td>\n",
       "    </tr>\n",
       "    <tr>\n",
       "      <th>100</th>\n",
       "      <td>Nalwa Sons Invest.</td>\n",
       "      <td>7048.20</td>\n",
       "      <td>7350.00</td>\n",
       "    </tr>\n",
       "    <tr>\n",
       "      <th>101</th>\n",
       "      <td>Diffusion Engineers</td>\n",
       "      <td>340.25</td>\n",
       "      <td>351.45</td>\n",
       "    </tr>\n",
       "    <tr>\n",
       "      <th>102</th>\n",
       "      <td>Greaves Cotton</td>\n",
       "      <td>194.20</td>\n",
       "      <td>197.65</td>\n",
       "    </tr>\n",
       "    <tr>\n",
       "      <th>103</th>\n",
       "      <td>Nitco</td>\n",
       "      <td>121.30</td>\n",
       "      <td>121.30</td>\n",
       "    </tr>\n",
       "    <tr>\n",
       "      <th>104</th>\n",
       "      <td>Sahasra Electronic</td>\n",
       "      <td>760.15</td>\n",
       "      <td>883.90</td>\n",
       "    </tr>\n",
       "  </tbody>\n",
       "</table>\n",
       "<p>105 rows × 3 columns</p>\n",
       "</div>"
      ],
      "text/plain": [
       "                  Company PriceRs. Day HighRs.\n",
       "0       Motilal Oswal Fin  1029.70     1064.00\n",
       "1      National Aluminium   232.12      232.80\n",
       "2           VA Tech Wabag  1871.15     1905.65\n",
       "3    Multi Commodity Exch  6561.15     6605.95\n",
       "4       Aditya Birla Real  3052.80     3125.00\n",
       "..                    ...      ...         ...\n",
       "100    Nalwa Sons Invest.  7048.20     7350.00\n",
       "101   Diffusion Engineers   340.25      351.45\n",
       "102        Greaves Cotton   194.20      197.65\n",
       "103                 Nitco   121.30      121.30\n",
       "104    Sahasra Electronic   760.15      883.90\n",
       "\n",
       "[105 rows x 3 columns]"
      ]
     },
     "execution_count": 19,
     "metadata": {},
     "output_type": "execute_result"
    }
   ],
   "source": [
    "rows = table.find_all(\"tr\")\n",
    "\n",
    "for i in rows[1:]:\n",
    "    data = i.find_all(\"td\")\n",
    "    row = [tr.text for tr in data]\n",
    "    # print(row)\n",
    "    l = len(df)\n",
    "    df.loc[l] = row\n",
    "    \n",
    "df['Company'] = df['Company'].str.strip()\n",
    "\n",
    "df"
   ]
  },
  {
   "cell_type": "code",
   "execution_count": 21,
   "metadata": {},
   "outputs": [],
   "source": [
    "df.to_csv(\"data/stock_market_data.csv\")"
   ]
  }
 ],
 "metadata": {
  "kernelspec": {
   "display_name": "base",
   "language": "python",
   "name": "python3"
  },
  "language_info": {
   "codemirror_mode": {
    "name": "ipython",
    "version": 3
   },
   "file_extension": ".py",
   "mimetype": "text/x-python",
   "name": "python",
   "nbconvert_exporter": "python",
   "pygments_lexer": "ipython3",
   "version": "3.11.9"
  }
 },
 "nbformat": 4,
 "nbformat_minor": 2
}
