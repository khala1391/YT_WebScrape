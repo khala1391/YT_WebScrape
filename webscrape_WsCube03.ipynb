{
 "cells": [
  {
   "cell_type": "markdown",
   "metadata": {},
   "source": [
    "# WebScraping"
   ]
  },
  {
   "cell_type": "markdown",
   "metadata": {},
   "source": [
    "---\n",
    "* Author:  [Yuttapong Mahasittiwat](mailto:khala1391@gmail.com)\n",
    "* Technologist | Data Modeler | Data Analyst\n",
    "* [YouTube](https://www.youtube.com/khala1391)\n",
    "* [LinkedIn](https://www.linkedin.com/in/yuttapong-m/)\n",
    "* [Tableau](https://public.tableau.com/app/profile/yuttapong.m/vizzes)\n",
    "---"
   ]
  },
  {
   "cell_type": "markdown",
   "metadata": {},
   "source": [
    "ref: [WS CubeTech youtube channel](https://www.youtube.com/watch?v=UabBGhnVqSo&list=PLc20sA5NNOvrsn3a78ewy2VTCXVV47NB4&index=1&t=0s)"
   ]
  },
  {
   "cell_type": "code",
   "execution_count": null,
   "metadata": {},
   "outputs": [
    {
     "name": "stdout",
     "output_type": "stream",
     "text": [
      "2024-10-20 20:41:04.090947\n"
     ]
    }
   ],
   "source": [
    "import datetime\n",
    "print(datetime.datetime.now())"
   ]
  },
  {
   "cell_type": "markdown",
   "metadata": {},
   "source": [
    "## import library"
   ]
  },
  {
   "cell_type": "code",
   "execution_count": null,
   "metadata": {},
   "outputs": [],
   "source": [
    "from urllib.request import urlopen # option#1\n",
    "import requests  # option#2\n",
    "\n",
    "import pandas as pd\n",
    "from bs4 import BeautifulSoup"
   ]
  },
  {
   "cell_type": "code",
   "execution_count": null,
   "metadata": {},
   "outputs": [
    {
     "name": "stdout",
     "output_type": "stream",
     "text": [
      "['7\" screen, Android', 'Black, 7\" IPS, Quad-Core 1.2GHz, 8GB, Android 4.2', '7\" screen, Android, 16GB', '7\", 8GB, Wi-Fi, Android 4.2, White', 'Black, 7\", 1.6GHz Dual-Core, 8GB, Android 4.4', 'IPS, Dual-Core 1.2GHz, 8GB, Android 4.3', '7\" screen, Android, 8GB', '6\" screen, wifi', '7\", 8GB, Wi-Fi, Android 4.2, Yellow', 'Blue, 8\" IPS, Quad-Core 1.3GHz, 16GB, Android 4.2', 'White, 7\", Atom 1.2GHz, 8GB, Android 4.4', 'Blue, 7\" IPS, Quad-Core 1.3GHz, 8GB, 3G, Android 4.2', 'Silver, 7\" IPS, Quad-Core 1.2Ghz, 16GB, 3G, Android 4.2', 'LTE (SM-T235), Quad-Core 1.2GHz, 8GB, Black', '16GB, White', 'White, 10.1\" IPS, 1.6GHz, 2GB, 16GB, Android 4.2', '10.1\", 3G, Android 4.0, Garnet Red', '12.2\", 32GB, WiFi, Android 4.4, White', 'Wi-Fi + Cellular, 32GB, Silver', '10.1\", 32GB, Black', 'Wi-Fi, 64GB, Silver']\n"
     ]
    }
   ],
   "source": [
    "url = \"https://webscraper.io/test-sites/e-commerce/allinone/computers/tablets\"\n",
    "\n",
    "r = requests.get(url)\n",
    "soup = BeautifulSoup(r.text, \"lxml\")\n",
    "\n",
    "\n",
    "price = soup.find(\"h4\",{\"class\":\"price float-end card-title pull-right\"})\n",
    "# print(price.text)\n",
    "# print(price.string)   # same result\n",
    "\n",
    "# description = soup.find(\"p\",{\"class\":\"description\"})\n",
    "description = soup.find_all(\"p\",{\"class\":\"description\"})\n",
    "description = [i.text for i in description]\n",
    "print(description)"
   ]
  }
 ],
 "metadata": {
  "language_info": {
   "name": "python"
  }
 },
 "nbformat": 4,
 "nbformat_minor": 2
}
