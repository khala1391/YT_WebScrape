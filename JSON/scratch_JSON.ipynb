{
 "cells": [
  {
   "cell_type": "code",
   "execution_count": 19,
   "id": "ec33ace4-2b80-4c4e-a17a-17c8e371f994",
   "metadata": {},
   "outputs": [],
   "source": [
    "import json"
   ]
  },
  {
   "cell_type": "code",
   "execution_count": 21,
   "id": "c78970d1-c08d-4c6d-a286-5c79a5d59272",
   "metadata": {},
   "outputs": [],
   "source": [
    "with open('states.json') as f:\n",
    "  data = json.load(f)"
   ]
  },
  {
   "cell_type": "code",
   "execution_count": 23,
   "id": "6f19faaf-b541-48d1-8b7c-7307ba5a58df",
   "metadata": {},
   "outputs": [],
   "source": [
    "for state in data['states']:\n",
    "  del state['area_codes']"
   ]
  },
  {
   "cell_type": "code",
   "execution_count": 42,
   "id": "5b9542bc-e445-4a6d-8581-4482d4f18cb9",
   "metadata": {},
   "outputs": [],
   "source": [
    "with open('new_states.json', 'w') as f:\n",
    "  json.dump(data, f, indent=2)"
   ]
  },
  {
   "cell_type": "code",
   "execution_count": 68,
   "id": "6f609f09-f12e-47c6-bc29-74464e7c2153",
   "metadata": {},
   "outputs": [
    {
     "data": {
      "text/plain": [
       "'Alabama'"
      ]
     },
     "execution_count": 68,
     "metadata": {},
     "output_type": "execute_result"
    }
   ],
   "source": [
    "data['states'][0]['name']"
   ]
  }
 ],
 "metadata": {
  "kernelspec": {
   "display_name": "Python 3 (ipykernel)",
   "language": "python",
   "name": "python3"
  },
  "language_info": {
   "codemirror_mode": {
    "name": "ipython",
    "version": 3
   },
   "file_extension": ".py",
   "mimetype": "text/x-python",
   "name": "python",
   "nbconvert_exporter": "python",
   "pygments_lexer": "ipython3",
   "version": "3.11.9"
  }
 },
 "nbformat": 4,
 "nbformat_minor": 5
}
