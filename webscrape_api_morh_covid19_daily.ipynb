{
 "cells": [
  {
   "cell_type": "markdown",
   "metadata": {},
   "source": [
    "# WebScraping"
   ]
  },
  {
   "cell_type": "markdown",
   "metadata": {},
   "source": [
    "---\n",
    "* Author:  [Yuttapong Mahasittiwat](mailto:khala1391@gmail.com)\n",
    "* Technologist | Data Modeler | Data Analyst\n",
    "* [YouTube](https://www.youtube.com/khala1391)\n",
    "* [LinkedIn](https://www.linkedin.com/in/yuttapong-m/)\n",
    "* [Tableau](https://public.tableau.com/app/profile/yuttapong.m/vizzes)\n",
    "---"
   ]
  },
  {
   "cell_type": "markdown",
   "metadata": {},
   "source": [
    "ref: [Ice partam youtube channel](https://www.youtube.com/@icepartam/videos)"
   ]
  },
  {
   "cell_type": "code",
   "execution_count": 1,
   "metadata": {},
   "outputs": [
    {
     "name": "stdout",
     "output_type": "stream",
     "text": [
      "2024-10-20 20:41:04.090947\n"
     ]
    }
   ],
   "source": [
    "import datetime\n",
    "print(datetime.datetime.now())"
   ]
  },
  {
   "cell_type": "code",
   "execution_count": 1,
   "metadata": {},
   "outputs": [],
   "source": [
    "import requests\n",
    "import json\n",
    "import pandas as pd"
   ]
  },
  {
   "cell_type": "code",
   "execution_count": 3,
   "metadata": {},
   "outputs": [
    {
     "data": {
      "text/plain": [
       "year                                 int32\n",
       "weeknum                              int32\n",
       "new_case                             int32\n",
       "total_case                           int32\n",
       "new_case_excludeabroad               int32\n",
       "total_case_excludeabroad             int32\n",
       "new_recovered                        int32\n",
       "total_recovered                      int32\n",
       "new_death                            int32\n",
       "total_death                          int32\n",
       "case_foreign                         int32\n",
       "case_prison                          int32\n",
       "case_walkin                          int32\n",
       "case_new_prev                        int32\n",
       "case_new_diff                        int32\n",
       "death_new_prev                       int32\n",
       "death_new_diff                       int32\n",
       "update_date                 datetime64[ns]\n",
       "dtype: object"
      ]
     },
     "execution_count": 3,
     "metadata": {},
     "output_type": "execute_result"
    }
   ],
   "source": [
    "url = 'https://covid19.ddc.moph.go.th/api/Cases/today-cases-all'\n",
    "response = requests.get(url=url)\n",
    "\n",
    "# print(response.json())\n",
    "\n",
    "with open('data/api_daily.json', 'w') as file:\n",
    "    json.dump(response.json(),file,indent=2)\n",
    "\n",
    "schema =  {\n",
    "    \"year\": int,\n",
    "    \"weeknum\": int,\n",
    "    \"new_case\": int,\n",
    "    \"total_case\": int,\n",
    "    \"new_case_excludeabroad\": int,\n",
    "    \"total_case_excludeabroad\": int,\n",
    "    \"new_recovered\": int,\n",
    "    \"total_recovered\": int,\n",
    "    \"new_death\": int,\n",
    "    \"total_death\": int,\n",
    "    \"case_foreign\": int,\n",
    "    \"case_prison\": int,\n",
    "    \"case_walkin\": int,\n",
    "    \"case_new_prev\": int,\n",
    "    \"case_new_diff\": int,\n",
    "    \"death_new_prev\": int,\n",
    "    \"death_new_diff\": int,\n",
    "    \"update_date\": 'datetime64[ns]'\n",
    "  }\n",
    "\n",
    "\n",
    "df =  pd.json_normalize(response.json())\n",
    "\n",
    "for col,value in schema.items():\n",
    "    df[col] = df[col].astype(value)\n",
    "    \n",
    "df.to_csv('data/api_daily.csv', encoding='utf-8-sig')\n",
    "# df\n",
    "df.dtypes\n"
   ]
  },
  {
   "cell_type": "code",
   "execution_count": 3,
   "metadata": {},
   "outputs": [
    {
     "data": {
      "text/plain": [
       "'[{\"year\":2024,\"weeknum\":40,\"new_case\":353,\"total_case\":39697,\"new_case_excludeabroad\":353,\"total_case_excludeabroad\":39697,\"new_recovered\":0,\"total_recovered\":0,\"new_death\":0,\"total_death\":211,\"case_foreign\":0,\"case_prison\":0,\"case_walkin\":353,\"case_new_prev\":0,\"case_new_diff\":353,\"death_new_prev\":0,\"death_new_diff\":0,\"update_date\":\"2024-10-13 18:11:06\"}]'"
      ]
     },
     "execution_count": 3,
     "metadata": {},
     "output_type": "execute_result"
    }
   ],
   "source": [
    "response.text"
   ]
  },
  {
   "cell_type": "code",
   "execution_count": 5,
   "metadata": {},
   "outputs": [
    {
     "data": {
      "text/plain": [
       "b'[{\"year\":2024,\"weeknum\":40,\"new_case\":353,\"total_case\":39697,\"new_case_excludeabroad\":353,\"total_case_excludeabroad\":39697,\"new_recovered\":0,\"total_recovered\":0,\"new_death\":0,\"total_death\":211,\"case_foreign\":0,\"case_prison\":0,\"case_walkin\":353,\"case_new_prev\":0,\"case_new_diff\":353,\"death_new_prev\":0,\"death_new_diff\":0,\"update_date\":\"2024-10-13 18:11:06\"}]'"
      ]
     },
     "execution_count": 5,
     "metadata": {},
     "output_type": "execute_result"
    }
   ],
   "source": [
    "response.content"
   ]
  },
  {
   "cell_type": "code",
   "execution_count": 4,
   "metadata": {},
   "outputs": [
    {
     "data": {
      "text/plain": [
       "[{'year': 2024,\n",
       "  'weeknum': 40,\n",
       "  'new_case': 353,\n",
       "  'total_case': 39697,\n",
       "  'new_case_excludeabroad': 353,\n",
       "  'total_case_excludeabroad': 39697,\n",
       "  'new_recovered': 0,\n",
       "  'total_recovered': 0,\n",
       "  'new_death': 0,\n",
       "  'total_death': 211,\n",
       "  'case_foreign': 0,\n",
       "  'case_prison': 0,\n",
       "  'case_walkin': 353,\n",
       "  'case_new_prev': 0,\n",
       "  'case_new_diff': 353,\n",
       "  'death_new_prev': 0,\n",
       "  'death_new_diff': 0,\n",
       "  'update_date': '2024-10-13 18:11:06'}]"
      ]
     },
     "execution_count": 4,
     "metadata": {},
     "output_type": "execute_result"
    }
   ],
   "source": [
    "response.json()"
   ]
  },
  {
   "cell_type": "code",
   "execution_count": null,
   "metadata": {},
   "outputs": [],
   "source": []
  }
 ],
 "metadata": {
  "kernelspec": {
   "display_name": "base",
   "language": "python",
   "name": "python3"
  },
  "language_info": {
   "codemirror_mode": {
    "name": "ipython",
    "version": 3
   },
   "file_extension": ".py",
   "mimetype": "text/x-python",
   "name": "python",
   "nbconvert_exporter": "python",
   "pygments_lexer": "ipython3",
   "version": "3.11.9"
  }
 },
 "nbformat": 4,
 "nbformat_minor": 2
}
