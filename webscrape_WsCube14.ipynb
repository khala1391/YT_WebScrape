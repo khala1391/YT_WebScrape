{
 "cells": [
  {
   "cell_type": "markdown",
   "metadata": {},
   "source": [
    "# WebScraping - Nested HTML tag"
   ]
  },
  {
   "cell_type": "markdown",
   "metadata": {},
   "source": [
    "---\n",
    "* Author:  [Yuttapong Mahasittiwat](mailto:khala1391@gmail.com)\n",
    "* Technologist | Data Modeler | Data Analyst\n",
    "* [YouTube](https://www.youtube.com/khala1391)\n",
    "* [LinkedIn](https://www.linkedin.com/in/yuttapong-m/)\n",
    "* [Tableau](https://public.tableau.com/app/profile/yuttapong.m/vizzes)\n",
    "---"
   ]
  },
  {
   "cell_type": "markdown",
   "metadata": {},
   "source": [
    "ref: [WS CubeTech youtube channel](https://www.youtube.com/watch?v=UabBGhnVqSo&list=PLc20sA5NNOvrsn3a78ewy2VTCXVV47NB4&index=1&t=0s)"
   ]
  },
  {
   "cell_type": "code",
   "execution_count": null,
   "metadata": {},
   "outputs": [
    {
     "name": "stdout",
     "output_type": "stream",
     "text": [
      "2024-10-20 20:41:04.090947\n"
     ]
    }
   ],
   "source": [
    "import datetime\n",
    "print(datetime.datetime.now())"
   ]
  },
  {
   "cell_type": "markdown",
   "metadata": {},
   "source": [
    "## import library"
   ]
  },
  {
   "cell_type": "code",
   "execution_count": 1,
   "metadata": {},
   "outputs": [],
   "source": [
    "from urllib.request import urlopen # option#1\n",
    "import requests  # option#2\n",
    "\n",
    "import pandas as pd\n",
    "from bs4 import BeautifulSoup"
   ]
  },
  {
   "cell_type": "code",
   "execution_count": 13,
   "metadata": {},
   "outputs": [],
   "source": [
    "url = \"https://webscraper.io/test-sites/e-commerce/allinone/computers/tablets\"\n",
    "\n",
    "r = requests.get(url)\n",
    "soup = BeautifulSoup(r.text, \"lxml\")"
   ]
  },
  {
   "cell_type": "code",
   "execution_count": 17,
   "metadata": {},
   "outputs": [
    {
     "data": {
      "text/plain": [
       "['\\n\\n\\n\\n\\n$69.99\\n\\nLenovo IdeaTab\\n\\n7\" screen, Android\\n\\n\\n7 reviews\\n\\n\\n\\n\\n\\n\\n\\n\\n',\n",
       " '\\n\\n\\n\\n\\n$88.99\\n\\nIdeaTab A3500L\\n\\nBlack, 7\" IPS, Quad-Core 1.2GHz, 8GB, Android 4.2\\n\\n\\n7 reviews\\n\\n\\n\\n\\n\\n\\n\\n\\n\\n',\n",
       " '\\n\\n\\n\\n\\n$96.99\\n\\nAcer Iconia\\n\\n7\" screen, Android, 16GB\\n\\n\\n7 reviews\\n\\n\\n\\n\\n\\n\\n',\n",
       " '\\n\\n\\n\\n\\n$97.99\\n\\nGalaxy Tab 3\\n\\n7\", 8GB, Wi-Fi, Android 4.2, White\\n\\n\\n2 reviews\\n\\n\\n\\n\\n\\n\\n\\n',\n",
       " '\\n\\n\\n\\n\\n$99.99\\n\\nIconia B1-730H...\\n\\nBlack, 7\", 1.6GHz Dual-Core, 8GB, Android 4.4\\n\\n\\n1 reviews\\n\\n\\n\\n\\n\\n\\n\\n\\n',\n",
       " '\\n\\n\\n\\n\\n$101.99\\n\\nMemo Pad HD 7\\n\\nIPS, Dual-Core 1.2GHz, 8GB, Android 4.3\\n\\n\\n10 reviews\\n\\n\\n\\n\\n\\n\\n\\n',\n",
       " '\\n\\n\\n\\n\\n$102.99\\n\\nAsus MeMO Pad\\n\\n7\" screen, Android, 8GB\\n\\n\\n14 reviews\\n\\n\\n\\n\\n\\n\\n\\n\\n\\n',\n",
       " '\\n\\n\\n\\n\\n$103.99\\n\\nAmazon Kindle\\n\\n6\" screen, wifi\\n\\n\\n3 reviews\\n\\n\\n\\n\\n\\n\\n\\n\\n\\n',\n",
       " '\\n\\n\\n\\n\\n$107.99\\n\\nGalaxy Tab 3\\n\\n7\", 8GB, Wi-Fi, Android 4.2, Yellow\\n\\n\\n14 reviews\\n\\n\\n\\n\\n\\n\\n\\n',\n",
       " '\\n\\n\\n\\n\\n$121.99\\n\\nIdeaTab A8-50\\n\\nBlue, 8\" IPS, Quad-Core 1.3GHz, 16GB, Android 4.2\\n\\n\\n13 reviews\\n\\n\\n\\n\\n\\n\\n\\n',\n",
       " '\\n\\n\\n\\n\\n$130.99\\n\\nMeMO Pad 7\\n\\nWhite, 7\", Atom 1.2GHz, 8GB, Android 4.4\\n\\n\\n11 reviews\\n\\n\\n\\n\\n\\n\\n',\n",
       " '\\n\\n\\n\\n\\n$148.99\\n\\nIdeaTab A3500-...\\n\\nBlue, 7\" IPS, Quad-Core 1.3GHz, 8GB, 3G, Android 4.2\\n\\n\\n9 reviews\\n\\n\\n\\n\\n\\n\\n\\n',\n",
       " '\\n\\n\\n\\n\\n$172.99\\n\\nIdeaTab S5000\\n\\nSilver, 7\" IPS, Quad-Core 1.2Ghz, 16GB, 3G, Android 4.2\\n\\n\\n8 reviews\\n\\n\\n\\n\\n\\n\\n\\n\\n',\n",
       " '\\n\\n\\n\\n\\n$233.99\\n\\nGalaxy Tab 4\\n\\nLTE (SM-T235), Quad-Core 1.2GHz, 8GB, Black\\n\\n\\n1 reviews\\n\\n\\n\\n\\n\\n\\n\\n\\n\\n',\n",
       " '\\n\\n\\n\\n\\n$251.99\\n\\nGalaxy Tab\\n\\n16GB, White\\n\\n\\n14 reviews\\n\\n\\n\\n\\n\\n\\n\\n\\n',\n",
       " '\\n\\n\\n\\n\\n$320.99\\n\\nMeMo PAD FHD 1...\\n\\nWhite, 10.1\" IPS, 1.6GHz, 2GB, 16GB, Android 4.2\\n\\n\\n7 reviews\\n\\n\\n\\n\\n\\n\\n\\n',\n",
       " '\\n\\n\\n\\n\\n$399.99\\n\\nGalaxy Note\\n\\n10.1\", 3G, Android 4.0, Garnet Red\\n\\n\\n12 reviews\\n\\n\\n\\n\\n\\n\\n\\n\\n\\n',\n",
       " '\\n\\n\\n\\n\\n$489.99\\n\\nGalaxy Note\\n\\n12.2\", 32GB, WiFi, Android 4.4, White\\n\\n\\n9 reviews\\n\\n\\n\\n\\n\\n\\n\\n\\n',\n",
       " '\\n\\n\\n\\n\\n$537.99\\n\\niPad Mini Reti...\\n\\nWi-Fi + Cellular, 32GB, Silver\\n\\n\\n8 reviews\\n\\n\\n\\n\\n\\n\\n\\n',\n",
       " '\\n\\n\\n\\n\\n$587.99\\n\\nGalaxy Note 10...\\n\\n10.1\", 32GB, Black\\n\\n\\n6 reviews\\n\\n\\n\\n\\n\\n\\n\\n',\n",
       " '\\n\\n\\n\\n\\n$603.99\\n\\nApple iPad Air\\n\\nWi-Fi, 64GB, Silver\\n\\n\\n7 reviews\\n\\n\\n\\n\\n\\n\\n\\n\\n']"
      ]
     },
     "execution_count": 17,
     "metadata": {},
     "output_type": "execute_result"
    }
   ],
   "source": [
    "boxes = soup.find_all(\"div\", class_=\"col-md-4 col-xl-4 col-lg-4\")\n",
    "data = [i.text for i in boxes]\n",
    "data\n",
    "\n",
    "# sublist = [list(filter(None, item.split('\\n'))) for item in data]\n",
    "# sublist"
   ]
  },
  {
   "cell_type": "code",
   "execution_count": 45,
   "metadata": {},
   "outputs": [
    {
     "name": "stdout",
     "output_type": "stream",
     "text": [
      "<div class=\"col-md-4 col-xl-4 col-lg-4\">\n",
      "<div class=\"card thumbnail\">\n",
      "<div class=\"product-wrapper card-body\">\n",
      "<img alt=\"item\" class=\"img-fluid card-img-top image img-responsive\" src=\"/images/test-sites/e-commerce/items/cart2.png\"/>\n",
      "<div class=\"caption\">\n",
      "<h4 class=\"price float-end card-title pull-right\">$69.99</h4>\n",
      "<h4>\n",
      "<a class=\"title\" href=\"/test-sites/e-commerce/allinone/product/10\" title=\"Lenovo IdeaTab\">Lenovo IdeaTab</a>\n",
      "</h4>\n",
      "<p class=\"description card-text\">7\" screen, Android</p>\n",
      "</div>\n",
      "<div class=\"ratings\">\n",
      "<p class=\"review-count float-end\">7 reviews</p>\n",
      "<p data-rating=\"3\">\n",
      "<span class=\"ws-icon ws-icon-star\"></span>\n",
      "<span class=\"ws-icon ws-icon-star\"></span>\n",
      "<span class=\"ws-icon ws-icon-star\"></span>\n",
      "</p>\n",
      "</div>\n",
      "</div>\n",
      "</div>\n",
      "</div>\n",
      "\n",
      "Lenovo IdeaTab\n",
      "\n",
      "7\" screen, Android\n",
      "\n"
     ]
    }
   ],
   "source": [
    "box = soup.find_all(\"div\", class_=\"col-md-4 col-xl-4 col-lg-4\")[0]\n",
    "print(box)\n",
    "\n",
    "print()\n",
    "\n",
    "name = box.find(\"a\").text\n",
    "print(name)\n",
    "\n",
    "print()\n",
    "\n",
    "description = box.find(\"p\", class_='description card-text').text\n",
    "print(description)\n",
    "\n",
    "print()\n"
   ]
  },
  {
   "cell_type": "code",
   "execution_count": 92,
   "metadata": {},
   "outputs": [
    {
     "name": "stdout",
     "output_type": "stream",
     "text": [
      "['Computers', 'Phones']\n"
     ]
    }
   ],
   "source": [
    "# **** start for index=0\n",
    "navbar = soup.find_all(\"a\", class_ = \"category-link nav-link\")\n",
    "navbar = [i.text.strip() for i in navbar]\n",
    "print(navbar)"
   ]
  }
 ],
 "metadata": {
  "kernelspec": {
   "display_name": "base",
   "language": "python",
   "name": "python3"
  },
  "language_info": {
   "codemirror_mode": {
    "name": "ipython",
    "version": 3
   },
   "file_extension": ".py",
   "mimetype": "text/x-python",
   "name": "python",
   "nbconvert_exporter": "python",
   "pygments_lexer": "ipython3",
   "version": "3.11.9"
  }
 },
 "nbformat": 4,
 "nbformat_minor": 2
}
