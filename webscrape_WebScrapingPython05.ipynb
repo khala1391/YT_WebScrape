{
 "cells": [
  {
   "cell_type": "markdown",
   "metadata": {},
   "source": [
    "# WebScraping"
   ]
  },
  {
   "cell_type": "markdown",
   "metadata": {},
   "source": [
    "---\n",
    "* Author:  [Yuttapong Mahasittiwat](mailto:khala1391@gmail.com)\n",
    "* Technologist | Data Modeler | Data Analyst\n",
    "* [YouTube](https://www.youtube.com/khala1391)\n",
    "* [LinkedIn](https://www.linkedin.com/in/yuttapong-m/)\n",
    "* [Tableau](https://public.tableau.com/app/profile/yuttapong.m/vizzes)\n",
    "---"
   ]
  },
  {
   "cell_type": "markdown",
   "metadata": {},
   "source": [
    "ref: [Web Scraping with Python by Ryan Mitchell](https://github.com/REMitchell/python-scraping)"
   ]
  },
  {
   "cell_type": "code",
   "execution_count": null,
   "metadata": {},
   "outputs": [
    {
     "name": "stdout",
     "output_type": "stream",
     "text": [
      "2024-10-20 20:41:04.090947\n"
     ]
    }
   ],
   "source": [
    "import datetime\n",
    "print(datetime.datetime.now())"
   ]
  },
  {
   "cell_type": "markdown",
   "metadata": {},
   "source": [
    "## import library"
   ]
  },
  {
   "cell_type": "code",
   "execution_count": 26,
   "metadata": {},
   "outputs": [],
   "source": [
    "from urllib.request import urlopen # option#1\n",
    "import requests  # option#2\n",
    "\n",
    "import pandas as pd\n",
    "from bs4 import BeautifulSoup"
   ]
  },
  {
   "cell_type": "markdown",
   "metadata": {},
   "source": [
    "## set up BeautifulSoup"
   ]
  },
  {
   "cell_type": "code",
   "execution_count": 27,
   "metadata": {},
   "outputs": [],
   "source": [
    "html = urlopen('http://www.pythonscraping.com/pages/warandpeace.html')\n",
    "bs = BeautifulSoup(html.read(), 'html.parser')"
   ]
  },
  {
   "cell_type": "code",
   "execution_count": 30,
   "metadata": {},
   "outputs": [
    {
     "data": {
      "text/plain": [
       "[<span class=\"green\">Anna\n",
       " Pavlovna Scherer</span>,\n",
       " <span class=\"green\">Empress Marya\n",
       " Fedorovna</span>,\n",
       " <span class=\"green\">Prince Vasili Kuragin</span>,\n",
       " <span class=\"green\">Anna Pavlovna</span>,\n",
       " <span class=\"green\">St. Petersburg</span>,\n",
       " <span class=\"green\">the prince</span>,\n",
       " <span class=\"green\">Anna Pavlovna</span>,\n",
       " <span class=\"green\">Anna Pavlovna</span>,\n",
       " <span class=\"green\">the prince</span>,\n",
       " <span class=\"green\">the prince</span>,\n",
       " <span class=\"green\">the prince</span>,\n",
       " <span class=\"green\">Prince Vasili</span>,\n",
       " <span class=\"green\">Anna Pavlovna</span>,\n",
       " <span class=\"green\">Anna Pavlovna</span>,\n",
       " <span class=\"green\">the prince</span>,\n",
       " <span class=\"green\">Wintzingerode</span>,\n",
       " <span class=\"green\">King of Prussia</span>,\n",
       " <span class=\"green\">le Vicomte de Mortemart</span>,\n",
       " <span class=\"green\">Montmorencys</span>,\n",
       " <span class=\"green\">Rohans</span>,\n",
       " <span class=\"green\">Abbe Morio</span>,\n",
       " <span class=\"green\">the Emperor</span>,\n",
       " <span class=\"green\">the prince</span>,\n",
       " <span class=\"green\">Prince Vasili</span>,\n",
       " <span class=\"green\">Dowager Empress Marya Fedorovna</span>,\n",
       " <span class=\"green\">the baron</span>,\n",
       " <span class=\"green\">Anna Pavlovna</span>,\n",
       " <span class=\"green\">the Empress</span>,\n",
       " <span class=\"green\">the Empress</span>,\n",
       " <span class=\"green\">Anna Pavlovna's</span>,\n",
       " <span class=\"green\">Her Majesty</span>,\n",
       " <span class=\"green\">Baron\n",
       " Funke</span>,\n",
       " <span class=\"green\">The prince</span>,\n",
       " <span class=\"green\">Anna\n",
       " Pavlovna</span>,\n",
       " <span class=\"green\">the Empress</span>,\n",
       " <span class=\"green\">The prince</span>,\n",
       " <span class=\"green\">Anatole</span>,\n",
       " <span class=\"green\">the prince</span>,\n",
       " <span class=\"green\">The prince</span>,\n",
       " <span class=\"green\">Anna\n",
       " Pavlovna</span>,\n",
       " <span class=\"green\">Anna Pavlovna</span>]"
      ]
     },
     "execution_count": 30,
     "metadata": {},
     "output_type": "execute_result"
    }
   ],
   "source": [
    "# nameList = bs.find_all('span', {'class':'green'})   # more flexible by identify more than 1 spec.\n",
    "namelist = bs.find_all('span', class_='green')\n",
    "\n",
    "\n",
    "# out#1\n",
    "# for name in nameList:\n",
    "#     print(name.get_text())\n",
    "\n",
    "# names = [name.text for name in namelist]\n",
    "# names"
   ]
  },
  {
   "cell_type": "code",
   "execution_count": 3,
   "metadata": {},
   "outputs": [
    {
     "name": "stdout",
     "output_type": "stream",
     "text": [
      "\n",
      "$15.00\n",
      "\n"
     ]
    }
   ],
   "source": [
    "html = urlopen('http://www.pythonscraping.com/pages/page3.html')\n",
    "bs = BeautifulSoup(html, 'html.parser')\n",
    "# print(bs.text)\n",
    "\n",
    "\n",
    "# print(bs.find('img',{'src':'../img/gifts/img1.jpg'}))\n",
    "# <img src=\"../img/gifts/img1.jpg\"/>\n",
    "\n",
    "# print(bs.find('img',{'src':'../img/gifts/img1.jpg'}).parent)\n",
    "# <td>\n",
    "# <img src=\"../img/gifts/img1.jpg\"/>\n",
    "# </td>\n",
    "\n",
    "# print(bs.find('img',{'src':'../img/gifts/img1.jpg'}).parent.previous_sibling)\n",
    "# <td>\n",
    "# $15.00\n",
    "# </td>\n",
    "\n",
    "print(bs.find('img',{'src':'../img/gifts/img1.jpg'}).parent.previous_sibling.get_text())\n",
    "# print(bs.find('img',{'src':'../img/gifts/img1.jpg'}).parent.previous_sibling.text)\n",
    "# $15.00"
   ]
  },
  {
   "cell_type": "code",
   "execution_count": 24,
   "metadata": {},
   "outputs": [
    {
     "name": "stdout",
     "output_type": "stream",
     "text": [
      "bs.ASCII_SPACES\n",
      "bs.DEFAULT_BUILDER_FEATURES\n",
      "bs.DEFAULT_INTERESTING_STRING_TYPES\n",
      "bs.EMPTY_ELEMENT_EVENT\n",
      "bs.END_ELEMENT_EVENT\n",
      "bs.NO_PARSER_SPECIFIED_WARNING\n",
      "bs.ROOT_TAG_NAME\n",
      "bs.START_ELEMENT_EVENT\n",
      "bs.STRING_ELEMENT_EVENT\n",
      "bs.__bool__\n",
      "bs.__call__\n",
      "bs.__class__\n",
      "bs.__contains__\n",
      "bs.__copy__\n",
      "bs.__deepcopy__\n",
      "bs.__delattr__\n",
      "bs.__delitem__\n",
      "bs.__dict__\n",
      "bs.__dir__\n",
      "bs.__doc__\n",
      "bs.__eq__\n",
      "bs.__format__\n",
      "bs.__ge__\n",
      "bs.__getattr__\n",
      "bs.__getattribute__\n",
      "bs.__getitem__\n",
      "bs.__getstate__\n",
      "bs.__gt__\n",
      "bs.__hash__\n",
      "bs.__init__\n",
      "bs.__init_subclass__\n",
      "bs.__iter__\n",
      "bs.__le__\n",
      "bs.__len__\n",
      "bs.__lt__\n",
      "bs.__module__\n",
      "bs.__ne__\n",
      "bs.__new__\n",
      "bs.__reduce__\n",
      "bs.__reduce_ex__\n",
      "bs.__repr__\n",
      "bs.__setattr__\n",
      "bs.__setitem__\n",
      "bs.__setstate__\n",
      "bs.__sizeof__\n",
      "bs.__str__\n",
      "bs.__subclasshook__\n",
      "bs.__unicode__\n",
      "bs.__weakref__\n",
      "bs.append\n",
      "bs.attrs\n",
      "bs.builder\n",
      "bs.can_be_empty_element\n",
      "bs.cdata_list_attributes\n",
      "bs.childGenerator\n",
      "bs.children\n",
      "bs.clear\n",
      "bs.contains_replacement_characters\n",
      "bs.contents\n",
      "bs.css\n",
      "bs.currentTag\n",
      "bs.current_data\n",
      "bs.declared_html_encoding\n",
      "bs.decode\n",
      "bs.decode_contents\n",
      "bs.decompose\n",
      "bs.decomposed\n",
      "bs.default\n",
      "bs.descendants\n",
      "bs.element_classes\n",
      "bs.encode\n",
      "bs.encode_contents\n",
      "bs.endData\n",
      "bs.extend\n",
      "bs.extract\n",
      "bs.fetchNextSiblings\n",
      "bs.fetchParents\n",
      "bs.fetchPrevious\n",
      "bs.fetchPreviousSiblings\n",
      "bs.find\n",
      "bs.findAll\n",
      "bs.findAllNext\n",
      "bs.findAllPrevious\n",
      "bs.findChild\n",
      "bs.findChildren\n",
      "bs.findNext\n",
      "bs.findNextSibling\n",
      "bs.findNextSiblings\n",
      "bs.findParent\n",
      "bs.findParents\n",
      "bs.findPrevious\n",
      "bs.findPreviousSibling\n",
      "bs.findPreviousSiblings\n",
      "bs.find_all\n",
      "bs.find_all_next\n",
      "bs.find_all_previous\n",
      "bs.find_next\n",
      "bs.find_next_sibling\n",
      "bs.find_next_siblings\n",
      "bs.find_parent\n",
      "bs.find_parents\n",
      "bs.find_previous\n",
      "bs.find_previous_sibling\n",
      "bs.find_previous_siblings\n",
      "bs.format_string\n",
      "bs.formatter_for_name\n",
      "bs.get\n",
      "bs.getText\n",
      "bs.get_attribute_list\n",
      "bs.get_text\n",
      "bs.handle_data\n",
      "bs.handle_endtag\n",
      "bs.handle_starttag\n",
      "bs.has_attr\n",
      "bs.has_key\n",
      "bs.hidden\n",
      "bs.index\n",
      "bs.insert\n",
      "bs.insert_after\n",
      "bs.insert_before\n",
      "bs.interesting_string_types\n",
      "bs.isSelfClosing\n",
      "bs.is_empty_element\n",
      "bs.is_xml\n",
      "bs.known_xml\n",
      "bs.markup\n",
      "bs.name\n",
      "bs.namespace\n",
      "bs.new_string\n",
      "bs.new_tag\n",
      "bs.next\n",
      "bs.nextGenerator\n",
      "bs.nextSibling\n",
      "bs.nextSiblingGenerator\n",
      "bs.next_element\n",
      "bs.next_elements\n",
      "bs.next_sibling\n",
      "bs.next_siblings\n",
      "bs.object_was_parsed\n",
      "bs.open_tag_counter\n",
      "bs.original_encoding\n",
      "bs.parent\n",
      "bs.parentGenerator\n",
      "bs.parents\n",
      "bs.parse_only\n",
      "bs.parserClass\n",
      "bs.parser_class\n",
      "bs.popTag\n",
      "bs.prefix\n",
      "bs.preserve_whitespace_tag_stack\n",
      "bs.preserve_whitespace_tags\n",
      "bs.prettify\n",
      "bs.previous\n",
      "bs.previousGenerator\n",
      "bs.previousSibling\n",
      "bs.previousSiblingGenerator\n",
      "bs.previous_element\n",
      "bs.previous_elements\n",
      "bs.previous_sibling\n",
      "bs.previous_siblings\n",
      "bs.pushTag\n",
      "bs.recursiveChildGenerator\n",
      "bs.renderContents\n",
      "bs.replaceWith\n",
      "bs.replaceWithChildren\n",
      "bs.replace_with\n",
      "bs.replace_with_children\n",
      "bs.reset\n",
      "bs.select\n",
      "bs.select_one\n",
      "bs.self_and_descendants\n",
      "bs.setup\n",
      "bs.smooth\n",
      "bs.string\n",
      "bs.string_container\n",
      "bs.string_container_stack\n",
      "bs.strings\n",
      "bs.stripped_strings\n",
      "bs.tagStack\n",
      "bs.text\n",
      "bs.unwrap\n",
      "bs.wrap"
     ]
    }
   ],
   "source": [
    "bs.*?"
   ]
  },
  {
   "cell_type": "code",
   "execution_count": 35,
   "metadata": {},
   "outputs": [
    {
     "name": "stdout",
     "output_type": "stream",
     "text": [
      "7\n"
     ]
    }
   ],
   "source": [
    "nameList = bs.find_all(string='the prince')\n",
    "print(len(nameList))"
   ]
  },
  {
   "cell_type": "code",
   "execution_count": 37,
   "metadata": {},
   "outputs": [
    {
     "data": {
      "text/plain": [
       "[]"
      ]
     },
     "execution_count": 37,
     "metadata": {},
     "output_type": "execute_result"
    }
   ],
   "source": [
    "title = bs.find_all(id='title', class_='text')\n",
    "title"
   ]
  },
  {
   "cell_type": "code",
   "execution_count": 48,
   "metadata": {},
   "outputs": [
    {
     "name": "stdout",
     "output_type": "stream",
     "text": [
      "<span class=\"red\">Well, Prince, so Genoa and Lucca are now just family estates of the\n",
      "Buonapartes. But I warn you, if you don't tell me that this means war,\n",
      "if you still try to defend the infamies and horrors perpetrated by\n",
      "that Antichrist- I really believe he is Antichrist- I will have\n",
      "nothing more to do with you and you are no longer my friend, no longer\n",
      "my 'faithful slave,' as you call yourself! But how do you do? I see\n",
      "I have frightened you- sit down and tell me all the news.</span>\n"
     ]
    }
   ],
   "source": [
    "# bs.find(id='text')  # by value\n",
    "# bs.find(attrs={'id':'text'})  # by attribute\n",
    "\n",
    "# more complex\n",
    "# selected = bs.find(attrs={'class':['red', 'blue', 'green']})\n",
    "selected = bs.find('span',{'class':['red', 'blue', 'green']})  # same result\n",
    "print(selected)"
   ]
  },
  {
   "cell_type": "code",
   "execution_count": null,
   "metadata": {},
   "outputs": [],
   "source": []
  }
 ],
 "metadata": {
  "kernelspec": {
   "display_name": "base",
   "language": "python",
   "name": "python3"
  },
  "language_info": {
   "codemirror_mode": {
    "name": "ipython",
    "version": 3
   },
   "file_extension": ".py",
   "mimetype": "text/x-python",
   "name": "python",
   "nbconvert_exporter": "python",
   "pygments_lexer": "ipython3",
   "version": "3.11.9"
  }
 },
 "nbformat": 4,
 "nbformat_minor": 2
}
