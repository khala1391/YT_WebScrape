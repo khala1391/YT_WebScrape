{
 "cells": [
  {
   "cell_type": "markdown",
   "metadata": {},
   "source": [
    "# WebScraping"
   ]
  },
  {
   "cell_type": "markdown",
   "metadata": {},
   "source": [
    "---\n",
    "* Author:  [Yuttapong Mahasittiwat](mailto:khala1391@gmail.com)\n",
    "* Technologist | Data Modeler | Data Analyst\n",
    "* [YouTube](https://www.youtube.com/khala1391)\n",
    "* [LinkedIn](https://www.linkedin.com/in/yuttapong-m/)\n",
    "* [Tableau](https://public.tableau.com/app/profile/yuttapong.m/vizzes)\n",
    "---"
   ]
  },
  {
   "cell_type": "markdown",
   "metadata": {},
   "source": [
    "ref: [Ice partam youtube channel](https://www.youtube.com/@icepartam/videos)"
   ]
  },
  {
   "cell_type": "code",
   "execution_count": null,
   "metadata": {},
   "outputs": [
    {
     "name": "stdout",
     "output_type": "stream",
     "text": [
      "2024-10-20 20:41:04.090947\n"
     ]
    }
   ],
   "source": [
    "import datetime\n",
    "print(datetime.datetime.now())"
   ]
  },
  {
   "cell_type": "code",
   "execution_count": 1,
   "metadata": {},
   "outputs": [],
   "source": [
    "import requests\n",
    "import json\n",
    "import pandas as pd"
   ]
  },
  {
   "cell_type": "code",
   "execution_count": 2,
   "metadata": {},
   "outputs": [
    {
     "data": {
      "text/plain": [
       "year                                 int32\n",
       "weeknum                              int32\n",
       "province                            object\n",
       "new_case                             int32\n",
       "total_case                           int32\n",
       "new_case_excludeabroad               int32\n",
       "total_case_excludeabroad             int32\n",
       "new_death                            int32\n",
       "total_death                          int32\n",
       "update_date                 datetime64[ns]\n",
       "dtype: object"
      ]
     },
     "execution_count": 2,
     "metadata": {},
     "output_type": "execute_result"
    }
   ],
   "source": [
    "url = 'https://covid19.ddc.moph.go.th/api/Cases/today-cases-by-provinces'\n",
    "response = requests.get(url=url)\n",
    "\n",
    "# print(response.json())\n",
    "\n",
    "with open('data/api_province.json', 'w') as file:\n",
    "    json.dump(response.json(),file,indent=2, ensure_ascii=False)\n",
    "    \n",
    "\n",
    "schema =  {\n",
    "    \"year\": int,\n",
    "    \"weeknum\": int,\n",
    "    \"province\": str,\n",
    "    \"new_case\": int,\n",
    "    \"total_case\": int,\n",
    "    \"new_case_excludeabroad\": int,\n",
    "    \"total_case_excludeabroad\": int,\n",
    "    \"new_death\": int,\n",
    "    \"total_death\": int,\n",
    "    \"update_date\": 'datetime64[ns]'\n",
    "  }\n",
    "\n",
    "\n",
    "df =  pd.json_normalize(response.json())\n",
    "\n",
    "for col,value in schema.items():\n",
    "    df[col] = df[col].astype(value)\n",
    "    \n",
    "df.to_csv('data/api_province.csv', encoding='utf-8-sig')\n",
    "\n",
    "df.dtypes"
   ]
  },
  {
   "cell_type": "code",
   "execution_count": null,
   "metadata": {},
   "outputs": [],
   "source": []
  }
 ],
 "metadata": {
  "kernelspec": {
   "display_name": "base",
   "language": "python",
   "name": "python3"
  },
  "language_info": {
   "codemirror_mode": {
    "name": "ipython",
    "version": 3
   },
   "file_extension": ".py",
   "mimetype": "text/x-python",
   "name": "python",
   "nbconvert_exporter": "python",
   "pygments_lexer": "ipython3",
   "version": "3.11.9"
  }
 },
 "nbformat": 4,
 "nbformat_minor": 2
}
